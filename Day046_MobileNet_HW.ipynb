{
 "cells": [
  {
   "cell_type": "markdown",
   "metadata": {},
   "source": [
    "# 作業"
   ]
  },
  {
   "cell_type": "markdown",
   "metadata": {},
   "source": [
    "### 嘗試用 keras 的 DepthwiseConv2D 等 layers 實做 Separable Convolution.\n",
    "   - depthwise's filter shape 爲 (3,3), padding = same\n",
    "   - pointwise's filters size 爲 128\n",
    "   - 不需要給 alpha, depth multiplier 參數"
   ]
  },
  {
   "cell_type": "markdown",
   "metadata": {},
   "source": [
    "##### 載入套件"
   ]
  },
  {
   "cell_type": "code",
   "execution_count": 1,
   "metadata": {
    "collapsed": false
   },
   "outputs": [],
   "source": [
    "from tensorflow.keras.models import Model\r\n",
    "from tensorflow.keras import Input\r\n",
    "from tensorflow.keras.layers import DepthwiseConv2D, Conv2D, BatchNormalization, ReLU"
   ]
  },
  {
   "cell_type": "markdown",
   "metadata": {},
   "source": [
    "##### 定義 Separable Convolution 函數 (請在此實做)"
   ]
  },
  {
   "cell_type": "code",
   "execution_count": 2,
   "metadata": {
    "collapsed": false
   },
   "outputs": [],
   "source": [
    "def SeparableConv(input):\r\n",
    "    '''\r\n",
    "    Args:\r\n",
    "        input: input tensor\r\n",
    "    Output:\r\n",
    "        output: output tensor\r\n",
    "    '''\r\n",
    "    # Depthwise Convolution\r\n",
    "    x = DepthwiseConv2D((3,3), padding='same')(input)\r\n",
    "    x = BatchNormalization()(x)\r\n",
    "    x = ReLU()(x)\r\n",
    "    \r\n",
    "    # Pointwise Convolution\r\n",
    "    x = Conv2D(128, (1,1))(x)\r\n",
    "    x = BatchNormalization()(x)\r\n",
    "    x = ReLU()(x)\r\n",
    "    return x"
   ]
  },
  {
   "cell_type": "markdown",
   "metadata": {},
   "source": [
    "##### 建構模型"
   ]
  },
  {
   "cell_type": "code",
   "execution_count": 3,
   "metadata": {
    "collapsed": false
   },
   "outputs": [
    {
     "name": "stdout",
     "output_type": "stream",
     "text": [
      "WARNING:tensorflow:From d:\\PyProjects\\Computer_Vision_ori\\venv\\lib\\site-packages\\tensorflow_core\\python\\ops\\resource_variable_ops.py:1630: calling BaseResourceVariable.__init__ (from tensorflow.python.ops.resource_variable_ops) with constraint is deprecated and will be removed in a future version.\n",
      "Instructions for updating:\n",
      "If using Keras pass *_constraint arguments to layers.\n",
      "Model: \"model\"\n",
      "_________________________________________________________________\n",
      "Layer (type)                 Output Shape              Param #   \n",
      "=================================================================\n",
      "input_1 (InputLayer)         [(None, 64, 64, 3)]       0         \n",
      "_________________________________________________________________\n",
      "depthwise_conv2d (DepthwiseC (None, 64, 64, 3)         30        \n",
      "_________________________________________________________________\n",
      "batch_normalization (BatchNo (None, 64, 64, 3)         12        \n",
      "_________________________________________________________________\n",
      "re_lu (ReLU)                 (None, 64, 64, 3)         0         \n",
      "_________________________________________________________________\n",
      "conv2d (Conv2D)              (None, 64, 64, 128)       512       \n",
      "_________________________________________________________________\n",
      "batch_normalization_1 (Batch (None, 64, 64, 128)       512       \n",
      "_________________________________________________________________\n",
      "re_lu_1 (ReLU)               (None, 64, 64, 128)       0         \n",
      "=================================================================\n",
      "Total params: 1,066\n",
      "Trainable params: 804\n",
      "Non-trainable params: 262\n",
      "_________________________________________________________________\n"
     ]
    }
   ],
   "source": [
    "input = Input((64, 64, 3))\n",
    "output = SeparableConv(input)\n",
    "model = Model(inputs=input, outputs=output)\n",
    "model.summary()"
   ]
  },
  {
   "cell_type": "code",
   "execution_count": null,
   "metadata": {
    "collapsed": true
   },
   "outputs": [],
   "source": []
  }
 ],
 "metadata": {
  "interpreter": {
   "hash": "cc283295aadc1f8166eb79315aa20765f3e042a86ac9d9783e5d04102fecdb1a"
  },
  "kernelspec": {
   "display_name": "Python 3.7.9 64-bit ('venv': venv)",
   "name": "python3"
  },
  "language_info": {
   "codemirror_mode": {
    "name": "ipython",
    "version": 3
   },
   "file_extension": ".py",
   "mimetype": "text/x-python",
   "name": "python",
   "nbconvert_exporter": "python",
   "pygments_lexer": "ipython3",
   "version": "3.7.9"
  }
 },
 "nbformat": 4,
 "nbformat_minor": 0
}