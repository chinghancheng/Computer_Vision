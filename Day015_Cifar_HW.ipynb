{
 "cells": [
  {
   "cell_type": "code",
   "execution_count": null,
   "metadata": {},
   "outputs": [],
   "source": []
  },
  {
   "cell_type": "markdown",
   "metadata": {},
   "source": [
    "## 『本次練習內容』\n",
    "#### 運用這幾天所學觀念搭建一個CNN分類器"
   ]
  },
  {
   "cell_type": "markdown",
   "metadata": {},
   "source": [
    "## 『本次練習目的』\n",
    "  #### 熟悉CNN分類器搭建步驟與原理\n",
    "  #### 學員們可以嘗試不同搭法，如使用不同的Maxpooling層，用GlobalAveragePooling取代Flatten等等"
   ]
  },
  {
   "cell_type": "code",
   "execution_count": 1,
   "metadata": {},
   "outputs": [],
   "source": [
    "from keras.models import Sequential\r\n",
    "from keras.layers import Convolution2D\r\n",
    "from keras.layers import MaxPooling2D\r\n",
    "from keras.layers import GlobalAveragePooling2D\r\n",
    "from keras.layers import Flatten\r\n",
    "from keras.layers import Dense\r\n",
    "from keras.layers import Dropout\r\n",
    "from keras.layers import BatchNormalization\r\n",
    "from keras.datasets import cifar10\r\n",
    "import numpy as np\r\n",
    "import tensorflow as tf\r\n",
    "from sklearn.preprocessing import OneHotEncoder\r\n",
    "from sklearn.metrics import classification_report"
   ]
  },
  {
   "cell_type": "code",
   "execution_count": 2,
   "metadata": {},
   "outputs": [
    {
     "name": "stdout",
     "output_type": "stream",
     "text": [
      "(50000, 32, 32, 3)\n"
     ]
    }
   ],
   "source": [
    "(x_train, y_train), (x_test, y_test) = cifar10.load_data()\r\n",
    "\r\n",
    "print(x_train.shape) #(50000, 32, 32, 3)\r\n",
    "\r\n",
    "## Normalize Data\r\n",
    "def normalize(X_train,X_test):\r\n",
    "        mean = np.mean(X_train,axis=(0,1,2,3))\r\n",
    "        std = np.std(X_train, axis=(0, 1, 2, 3))\r\n",
    "        X_train = (X_train-mean)/(std+1e-7)\r\n",
    "        X_test = (X_test-mean)/(std+1e-7) \r\n",
    "        return X_train, X_test,mean,std\r\n",
    "    \r\n",
    "    \r\n",
    "## Normalize Training and Testset    \r\n",
    "x_train, x_test,mean_train,std_train = normalize(x_train, x_test) "
   ]
  },
  {
   "cell_type": "code",
   "execution_count": 3,
   "metadata": {},
   "outputs": [],
   "source": [
    "## OneHot Label 由(None, 1)-(None, 10)\n",
    "## ex. label=2,變成[0,0,1,0,0,0,0,0,0,0]\n",
    "one_hot=OneHotEncoder()\n",
    "y_train=one_hot.fit_transform(y_train).toarray()\n",
    "y_test=one_hot.transform(y_test).toarray()"
   ]
  },
  {
   "cell_type": "code",
   "execution_count": 4,
   "metadata": {},
   "outputs": [
    {
     "name": "stdout",
     "output_type": "stream",
     "text": [
      "(50000, 32, 32, 3)\n"
     ]
    }
   ],
   "source": [
    "print(x_train.shape)"
   ]
  },
  {
   "cell_type": "code",
   "execution_count": 5,
   "metadata": {},
   "outputs": [
    {
     "name": "stdout",
     "output_type": "stream",
     "text": [
      "(10000, 32, 32, 3)\n"
     ]
    }
   ],
   "source": [
    "print(x_test.shape)"
   ]
  },
  {
   "cell_type": "code",
   "execution_count": 6,
   "metadata": {},
   "outputs": [
    {
     "name": "stdout",
     "output_type": "stream",
     "text": [
      "(50000, 10)\n"
     ]
    }
   ],
   "source": [
    "print(y_train.shape)"
   ]
  },
  {
   "cell_type": "code",
   "execution_count": 7,
   "metadata": {},
   "outputs": [
    {
     "name": "stdout",
     "output_type": "stream",
     "text": [
      "(10000, 10)\n"
     ]
    }
   ],
   "source": [
    "print(y_test.shape)"
   ]
  },
  {
   "cell_type": "code",
   "execution_count": 8,
   "metadata": {},
   "outputs": [
    {
     "name": "stdout",
     "output_type": "stream",
     "text": [
      "Epoch 1/10\n",
      "98/98 [==============================] - 35s 351ms/step - loss: 1.4467 - accuracy: 0.5355\n",
      "Epoch 2/10\n",
      "98/98 [==============================] - 35s 352ms/step - loss: 0.7560 - accuracy: 0.7415\n",
      "Epoch 3/10\n",
      "98/98 [==============================] - 35s 352ms/step - loss: 0.4429 - accuracy: 0.8510\n",
      "Epoch 4/10\n",
      "98/98 [==============================] - 34s 350ms/step - loss: 0.2418 - accuracy: 0.9270\n",
      "Epoch 5/10\n",
      "98/98 [==============================] - 35s 354ms/step - loss: 0.1149 - accuracy: 0.9732\n",
      "Epoch 6/10\n",
      "98/98 [==============================] - 35s 359ms/step - loss: 0.0472 - accuracy: 0.9939\n",
      "Epoch 7/10\n",
      "98/98 [==============================] - 36s 365ms/step - loss: 0.0198 - accuracy: 0.9988\n",
      "Epoch 8/10\n",
      "98/98 [==============================] - 37s 376ms/step - loss: 0.0091 - accuracy: 0.9999\n",
      "Epoch 9/10\n",
      "98/98 [==============================] - 36s 372ms/step - loss: 0.0051 - accuracy: 1.0000\n",
      "Epoch 10/10\n",
      "98/98 [==============================] - 36s 371ms/step - loss: 0.0036 - accuracy: 1.0000\n"
     ]
    },
    {
     "data": {
      "text/plain": [
       "<keras.callbacks.History at 0x22d51506d48>"
      ]
     },
     "execution_count": 8,
     "metadata": {},
     "output_type": "execute_result"
    }
   ],
   "source": [
    "\r\n",
    "classifier=Sequential()\r\n",
    "\r\n",
    "#卷積組合\r\n",
    "classifier.add(Convolution2D(32, (3,3) ,input_shape=(32,32,3),activation='relu'))\r\n",
    "classifier.add(BatchNormalization())\r\n",
    "\r\n",
    "'''自己決定MaxPooling2D放在哪裡'''\r\n",
    "classifier.add(MaxPooling2D(pool_size=(2,2)))\r\n",
    "\r\n",
    "#卷積組合\r\n",
    "classifier.add(Convolution2D(64, (3,3) ,activation='relu'))\r\n",
    "classifier.add(BatchNormalization())\r\n",
    "\r\n",
    "#flatten\r\n",
    "classifier.add(Flatten())\r\n",
    "\r\n",
    "#FC\r\n",
    "classifier.add(Dense(units=100,activation='relu'))\r\n",
    "\r\n",
    "#輸出\r\n",
    "classifier.add(Dense(units=10,activation='softmax'))\r\n",
    "\r\n",
    "#超過兩個就要選categorical_crossentrophy\r\n",
    "classifier.compile(optimizer = 'adam', loss = 'categorical_crossentropy', metrics = ['accuracy'])\r\n",
    "classifier.fit(x_train,y_train,batch_size=512,epochs=10)"
   ]
  },
  {
   "cell_type": "markdown",
   "metadata": {},
   "source": [
    "## 預測新圖片，輸入影像前處理要與訓練時相同\n",
    "#### ((X-mean)/(std+1e-7) ):這裡的mean跟std是訓練集的\n",
    "## 維度如下方示範"
   ]
  },
  {
   "cell_type": "code",
   "execution_count": 9,
   "metadata": {},
   "outputs": [
    {
     "data": {
      "text/plain": [
       "array([[6.9606565e-02, 3.1945663e-06, 7.9048090e-02, 8.3275902e-01,\n",
       "        1.5806157e-02, 2.2533950e-06, 2.1339101e-05, 3.7481033e-04,\n",
       "        2.3711685e-03, 7.4230425e-06]], dtype=float32)"
      ]
     },
     "execution_count": 9,
     "metadata": {},
     "output_type": "execute_result"
    }
   ],
   "source": [
    "input_example=(np.zeros(shape=(1,32,32,3))-mean_train)/(std_train+1e-7) \n",
    "classifier.predict(input_example)"
   ]
  },
  {
   "cell_type": "code",
   "execution_count": null,
   "metadata": {},
   "outputs": [],
   "source": []
  }
 ],
 "metadata": {
  "interpreter": {
   "hash": "cc283295aadc1f8166eb79315aa20765f3e042a86ac9d9783e5d04102fecdb1a"
  },
  "kernelspec": {
   "display_name": "Python 3.7.9 64-bit ('venv': venv)",
   "name": "python3"
  },
  "language_info": {
   "codemirror_mode": {
    "name": "ipython",
    "version": 3
   },
   "file_extension": ".py",
   "mimetype": "text/x-python",
   "name": "python",
   "nbconvert_exporter": "python",
   "pygments_lexer": "ipython3",
   "version": "3.7.9"
  }
 },
 "nbformat": 4,
 "nbformat_minor": 2
}